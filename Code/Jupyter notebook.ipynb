{
 "cells": [
  {
   "cell_type": "markdown",
   "id": "a8b2aa78",
   "metadata": {},
   "source": [
    "\n",
    "### Importing necessary libraries"
   ]
  },
  {
   "cell_type": "code",
   "execution_count": 2,
   "id": "b6eed1e1",
   "metadata": {},
   "outputs": [],
   "source": [
    "import numpy as np                              \n",
    "import pandas as pd                             \n",
    "import seaborn as sns                           \n",
    "import matplotlib.pyplot as plt                 "
   ]
  },
  {
   "cell_type": "markdown",
   "id": "3dac0eda",
   "metadata": {},
   "source": [
    "### To read csv dataset\n",
    "\n",
    "We will use pandas to read csv file and to store it in a dataframe as follws:"
   ]
  },
  {
   "cell_type": "code",
   "execution_count": 4,
   "id": "6df32bb5",
   "metadata": {},
   "outputs": [
    {
     "data": {
      "text/html": [
       "<div>\n",
       "<style scoped>\n",
       "    .dataframe tbody tr th:only-of-type {\n",
       "        vertical-align: middle;\n",
       "    }\n",
       "\n",
       "    .dataframe tbody tr th {\n",
       "        vertical-align: top;\n",
       "    }\n",
       "\n",
       "    .dataframe thead th {\n",
       "        text-align: right;\n",
       "    }\n",
       "</style>\n",
       "<table border=\"1\" class=\"dataframe\">\n",
       "  <thead>\n",
       "    <tr style=\"text-align: right;\">\n",
       "      <th></th>\n",
       "      <th>name</th>\n",
       "      <th>age</th>\n",
       "      <th>country</th>\n",
       "      <th>year</th>\n",
       "      <th>Date_given</th>\n",
       "      <th>sports</th>\n",
       "      <th>gold_medal</th>\n",
       "      <th>silver_medal</th>\n",
       "      <th>bronze_medal</th>\n",
       "      <th>total_medal</th>\n",
       "    </tr>\n",
       "  </thead>\n",
       "  <tbody>\n",
       "    <tr>\n",
       "      <th>0</th>\n",
       "      <td>Michael Phelps</td>\n",
       "      <td>23</td>\n",
       "      <td>United States</td>\n",
       "      <td>2008</td>\n",
       "      <td>24-08-2008</td>\n",
       "      <td>Swimming</td>\n",
       "      <td>8</td>\n",
       "      <td>0</td>\n",
       "      <td>0</td>\n",
       "      <td>8</td>\n",
       "    </tr>\n",
       "    <tr>\n",
       "      <th>1</th>\n",
       "      <td>Michael Phelps</td>\n",
       "      <td>19</td>\n",
       "      <td>United States</td>\n",
       "      <td>2004</td>\n",
       "      <td>29-08-2004</td>\n",
       "      <td>Swimming</td>\n",
       "      <td>6</td>\n",
       "      <td>0</td>\n",
       "      <td>2</td>\n",
       "      <td>8</td>\n",
       "    </tr>\n",
       "    <tr>\n",
       "      <th>2</th>\n",
       "      <td>Michael Phelps</td>\n",
       "      <td>27</td>\n",
       "      <td>United States</td>\n",
       "      <td>2012</td>\n",
       "      <td>12-08-2012</td>\n",
       "      <td>Swimming</td>\n",
       "      <td>4</td>\n",
       "      <td>2</td>\n",
       "      <td>0</td>\n",
       "      <td>6</td>\n",
       "    </tr>\n",
       "    <tr>\n",
       "      <th>3</th>\n",
       "      <td>Natalie Coughlin</td>\n",
       "      <td>25</td>\n",
       "      <td>United States</td>\n",
       "      <td>2008</td>\n",
       "      <td>24-08-2008</td>\n",
       "      <td>Swimming</td>\n",
       "      <td>1</td>\n",
       "      <td>2</td>\n",
       "      <td>3</td>\n",
       "      <td>6</td>\n",
       "    </tr>\n",
       "    <tr>\n",
       "      <th>4</th>\n",
       "      <td>Aleksey Nemov</td>\n",
       "      <td>24</td>\n",
       "      <td>Russia</td>\n",
       "      <td>2000</td>\n",
       "      <td>01-10-2000</td>\n",
       "      <td>Gymnastics</td>\n",
       "      <td>2</td>\n",
       "      <td>1</td>\n",
       "      <td>3</td>\n",
       "      <td>6</td>\n",
       "    </tr>\n",
       "    <tr>\n",
       "      <th>...</th>\n",
       "      <td>...</td>\n",
       "      <td>...</td>\n",
       "      <td>...</td>\n",
       "      <td>...</td>\n",
       "      <td>...</td>\n",
       "      <td>...</td>\n",
       "      <td>...</td>\n",
       "      <td>...</td>\n",
       "      <td>...</td>\n",
       "      <td>...</td>\n",
       "    </tr>\n",
       "    <tr>\n",
       "      <th>8613</th>\n",
       "      <td>Olena Sadovnycha</td>\n",
       "      <td>32</td>\n",
       "      <td>Ukraine</td>\n",
       "      <td>2000</td>\n",
       "      <td>01-10-2000</td>\n",
       "      <td>Archery</td>\n",
       "      <td>0</td>\n",
       "      <td>1</td>\n",
       "      <td>0</td>\n",
       "      <td>1</td>\n",
       "    </tr>\n",
       "    <tr>\n",
       "      <th>8614</th>\n",
       "      <td>Kateryna Serdiuk</td>\n",
       "      <td>17</td>\n",
       "      <td>Ukraine</td>\n",
       "      <td>2000</td>\n",
       "      <td>01-10-2000</td>\n",
       "      <td>Archery</td>\n",
       "      <td>0</td>\n",
       "      <td>1</td>\n",
       "      <td>0</td>\n",
       "      <td>1</td>\n",
       "    </tr>\n",
       "    <tr>\n",
       "      <th>8615</th>\n",
       "      <td>Wietse van Alten</td>\n",
       "      <td>21</td>\n",
       "      <td>Netherlands</td>\n",
       "      <td>2000</td>\n",
       "      <td>01-10-2000</td>\n",
       "      <td>Archery</td>\n",
       "      <td>0</td>\n",
       "      <td>0</td>\n",
       "      <td>1</td>\n",
       "      <td>1</td>\n",
       "    </tr>\n",
       "    <tr>\n",
       "      <th>8616</th>\n",
       "      <td>Sandra Wagner-Sachse</td>\n",
       "      <td>31</td>\n",
       "      <td>Germany</td>\n",
       "      <td>2000</td>\n",
       "      <td>01-10-2000</td>\n",
       "      <td>Archery</td>\n",
       "      <td>0</td>\n",
       "      <td>0</td>\n",
       "      <td>1</td>\n",
       "      <td>1</td>\n",
       "    </tr>\n",
       "    <tr>\n",
       "      <th>8617</th>\n",
       "      <td>Rod White</td>\n",
       "      <td>23</td>\n",
       "      <td>United States</td>\n",
       "      <td>2000</td>\n",
       "      <td>01-10-2000</td>\n",
       "      <td>Archery</td>\n",
       "      <td>0</td>\n",
       "      <td>0</td>\n",
       "      <td>1</td>\n",
       "      <td>1</td>\n",
       "    </tr>\n",
       "  </tbody>\n",
       "</table>\n",
       "<p>8618 rows × 10 columns</p>\n",
       "</div>"
      ],
      "text/plain": [
       "                      name  age        country  year  Date_given      sports  \\\n",
       "0           Michael Phelps   23  United States  2008  24-08-2008    Swimming   \n",
       "1           Michael Phelps   19  United States  2004  29-08-2004    Swimming   \n",
       "2           Michael Phelps   27  United States  2012  12-08-2012    Swimming   \n",
       "3         Natalie Coughlin   25  United States  2008  24-08-2008    Swimming   \n",
       "4            Aleksey Nemov   24         Russia  2000  01-10-2000  Gymnastics   \n",
       "...                    ...  ...            ...   ...         ...         ...   \n",
       "8613      Olena Sadovnycha   32        Ukraine  2000  01-10-2000     Archery   \n",
       "8614      Kateryna Serdiuk   17        Ukraine  2000  01-10-2000     Archery   \n",
       "8615      Wietse van Alten   21    Netherlands  2000  01-10-2000     Archery   \n",
       "8616  Sandra Wagner-Sachse   31        Germany  2000  01-10-2000     Archery   \n",
       "8617             Rod White   23  United States  2000  01-10-2000     Archery   \n",
       "\n",
       "      gold_medal  silver_medal  bronze_medal  total_medal  \n",
       "0              8             0             0            8  \n",
       "1              6             0             2            8  \n",
       "2              4             2             0            6  \n",
       "3              1             2             3            6  \n",
       "4              2             1             3            6  \n",
       "...          ...           ...           ...          ...  \n",
       "8613           0             1             0            1  \n",
       "8614           0             1             0            1  \n",
       "8615           0             0             1            1  \n",
       "8616           0             0             1            1  \n",
       "8617           0             0             1            1  \n",
       "\n",
       "[8618 rows x 10 columns]"
      ]
     },
     "execution_count": 4,
     "metadata": {},
     "output_type": "execute_result"
    }
   ],
   "source": [
    "df = pd.read_csv(r'data.csv')   #to read the csv file\n",
    "df"
   ]
  },
  {
   "cell_type": "markdown",
   "id": "1f465d35",
   "metadata": {},
   "source": [
    "### Basic Exploration of the dataset\n",
    "\n",
    "As we have successfully imported the csv file into a dataFrame, we will perform basic exploration of the dataset to understand the given data.\n"
   ]
  },
  {
   "cell_type": "code",
   "execution_count": 6,
   "id": "8737f3d1",
   "metadata": {},
   "outputs": [
    {
     "data": {
      "text/plain": [
       "(8618, 10)"
      ]
     },
     "execution_count": 6,
     "metadata": {},
     "output_type": "execute_result"
    }
   ],
   "source": [
    "#To know the size of database using shape function\n",
    "df.shape"
   ]
  },
  {
   "cell_type": "markdown",
   "id": "7ad38382",
   "metadata": {},
   "source": [
    "We can see that there are total 8618 number of rows and 10 number of columns are present in our given dataset."
   ]
  },
  {
   "cell_type": "code",
   "execution_count": 8,
   "id": "92a85264",
   "metadata": {},
   "outputs": [
    {
     "data": {
      "text/plain": [
       "Index(['name', 'age', 'country', 'year', 'Date_given', 'sports', 'gold_medal',\n",
       "       'silver_medal', 'bronze_medal', 'total_medal'],\n",
       "      dtype='object')"
      ]
     },
     "execution_count": 8,
     "metadata": {},
     "output_type": "execute_result"
    }
   ],
   "source": [
    "#To check for all column present in the data\n",
    "df.columns"
   ]
  },
  {
   "cell_type": "code",
   "execution_count": 9,
   "id": "736a2e85",
   "metadata": {},
   "outputs": [
    {
     "data": {
      "text/html": [
       "<div>\n",
       "<style scoped>\n",
       "    .dataframe tbody tr th:only-of-type {\n",
       "        vertical-align: middle;\n",
       "    }\n",
       "\n",
       "    .dataframe tbody tr th {\n",
       "        vertical-align: top;\n",
       "    }\n",
       "\n",
       "    .dataframe thead th {\n",
       "        text-align: right;\n",
       "    }\n",
       "</style>\n",
       "<table border=\"1\" class=\"dataframe\">\n",
       "  <thead>\n",
       "    <tr style=\"text-align: right;\">\n",
       "      <th></th>\n",
       "      <th>name</th>\n",
       "      <th>age</th>\n",
       "      <th>country</th>\n",
       "      <th>year</th>\n",
       "      <th>Date_given</th>\n",
       "      <th>sports</th>\n",
       "      <th>gold_medal</th>\n",
       "      <th>silver_medal</th>\n",
       "      <th>bronze_medal</th>\n",
       "      <th>total_medal</th>\n",
       "    </tr>\n",
       "  </thead>\n",
       "  <tbody>\n",
       "    <tr>\n",
       "      <th>0</th>\n",
       "      <td>Michael Phelps</td>\n",
       "      <td>23</td>\n",
       "      <td>United States</td>\n",
       "      <td>2008</td>\n",
       "      <td>24-08-2008</td>\n",
       "      <td>Swimming</td>\n",
       "      <td>8</td>\n",
       "      <td>0</td>\n",
       "      <td>0</td>\n",
       "      <td>8</td>\n",
       "    </tr>\n",
       "    <tr>\n",
       "      <th>1</th>\n",
       "      <td>Michael Phelps</td>\n",
       "      <td>19</td>\n",
       "      <td>United States</td>\n",
       "      <td>2004</td>\n",
       "      <td>29-08-2004</td>\n",
       "      <td>Swimming</td>\n",
       "      <td>6</td>\n",
       "      <td>0</td>\n",
       "      <td>2</td>\n",
       "      <td>8</td>\n",
       "    </tr>\n",
       "    <tr>\n",
       "      <th>2</th>\n",
       "      <td>Michael Phelps</td>\n",
       "      <td>27</td>\n",
       "      <td>United States</td>\n",
       "      <td>2012</td>\n",
       "      <td>12-08-2012</td>\n",
       "      <td>Swimming</td>\n",
       "      <td>4</td>\n",
       "      <td>2</td>\n",
       "      <td>0</td>\n",
       "      <td>6</td>\n",
       "    </tr>\n",
       "    <tr>\n",
       "      <th>3</th>\n",
       "      <td>Natalie Coughlin</td>\n",
       "      <td>25</td>\n",
       "      <td>United States</td>\n",
       "      <td>2008</td>\n",
       "      <td>24-08-2008</td>\n",
       "      <td>Swimming</td>\n",
       "      <td>1</td>\n",
       "      <td>2</td>\n",
       "      <td>3</td>\n",
       "      <td>6</td>\n",
       "    </tr>\n",
       "    <tr>\n",
       "      <th>4</th>\n",
       "      <td>Aleksey Nemov</td>\n",
       "      <td>24</td>\n",
       "      <td>Russia</td>\n",
       "      <td>2000</td>\n",
       "      <td>01-10-2000</td>\n",
       "      <td>Gymnastics</td>\n",
       "      <td>2</td>\n",
       "      <td>1</td>\n",
       "      <td>3</td>\n",
       "      <td>6</td>\n",
       "    </tr>\n",
       "  </tbody>\n",
       "</table>\n",
       "</div>"
      ],
      "text/plain": [
       "               name  age        country  year  Date_given      sports  \\\n",
       "0    Michael Phelps   23  United States  2008  24-08-2008    Swimming   \n",
       "1    Michael Phelps   19  United States  2004  29-08-2004    Swimming   \n",
       "2    Michael Phelps   27  United States  2012  12-08-2012    Swimming   \n",
       "3  Natalie Coughlin   25  United States  2008  24-08-2008    Swimming   \n",
       "4     Aleksey Nemov   24         Russia  2000  01-10-2000  Gymnastics   \n",
       "\n",
       "   gold_medal  silver_medal  bronze_medal  total_medal  \n",
       "0           8             0             0            8  \n",
       "1           6             0             2            8  \n",
       "2           4             2             0            6  \n",
       "3           1             2             3            6  \n",
       "4           2             1             3            6  "
      ]
     },
     "execution_count": 9,
     "metadata": {},
     "output_type": "execute_result"
    }
   ],
   "source": [
    "# Exploring first 5 rows of the dataset using head function\n",
    "df.head(5) "
   ]
  },
  {
   "cell_type": "code",
   "execution_count": 10,
   "id": "3d5c71b0",
   "metadata": {},
   "outputs": [
    {
     "data": {
      "text/html": [
       "<div>\n",
       "<style scoped>\n",
       "    .dataframe tbody tr th:only-of-type {\n",
       "        vertical-align: middle;\n",
       "    }\n",
       "\n",
       "    .dataframe tbody tr th {\n",
       "        vertical-align: top;\n",
       "    }\n",
       "\n",
       "    .dataframe thead th {\n",
       "        text-align: right;\n",
       "    }\n",
       "</style>\n",
       "<table border=\"1\" class=\"dataframe\">\n",
       "  <thead>\n",
       "    <tr style=\"text-align: right;\">\n",
       "      <th></th>\n",
       "      <th>name</th>\n",
       "      <th>age</th>\n",
       "      <th>country</th>\n",
       "      <th>year</th>\n",
       "      <th>Date_given</th>\n",
       "      <th>sports</th>\n",
       "      <th>gold_medal</th>\n",
       "      <th>silver_medal</th>\n",
       "      <th>bronze_medal</th>\n",
       "      <th>total_medal</th>\n",
       "    </tr>\n",
       "  </thead>\n",
       "  <tbody>\n",
       "    <tr>\n",
       "      <th>8613</th>\n",
       "      <td>Olena Sadovnycha</td>\n",
       "      <td>32</td>\n",
       "      <td>Ukraine</td>\n",
       "      <td>2000</td>\n",
       "      <td>01-10-2000</td>\n",
       "      <td>Archery</td>\n",
       "      <td>0</td>\n",
       "      <td>1</td>\n",
       "      <td>0</td>\n",
       "      <td>1</td>\n",
       "    </tr>\n",
       "    <tr>\n",
       "      <th>8614</th>\n",
       "      <td>Kateryna Serdiuk</td>\n",
       "      <td>17</td>\n",
       "      <td>Ukraine</td>\n",
       "      <td>2000</td>\n",
       "      <td>01-10-2000</td>\n",
       "      <td>Archery</td>\n",
       "      <td>0</td>\n",
       "      <td>1</td>\n",
       "      <td>0</td>\n",
       "      <td>1</td>\n",
       "    </tr>\n",
       "    <tr>\n",
       "      <th>8615</th>\n",
       "      <td>Wietse van Alten</td>\n",
       "      <td>21</td>\n",
       "      <td>Netherlands</td>\n",
       "      <td>2000</td>\n",
       "      <td>01-10-2000</td>\n",
       "      <td>Archery</td>\n",
       "      <td>0</td>\n",
       "      <td>0</td>\n",
       "      <td>1</td>\n",
       "      <td>1</td>\n",
       "    </tr>\n",
       "    <tr>\n",
       "      <th>8616</th>\n",
       "      <td>Sandra Wagner-Sachse</td>\n",
       "      <td>31</td>\n",
       "      <td>Germany</td>\n",
       "      <td>2000</td>\n",
       "      <td>01-10-2000</td>\n",
       "      <td>Archery</td>\n",
       "      <td>0</td>\n",
       "      <td>0</td>\n",
       "      <td>1</td>\n",
       "      <td>1</td>\n",
       "    </tr>\n",
       "    <tr>\n",
       "      <th>8617</th>\n",
       "      <td>Rod White</td>\n",
       "      <td>23</td>\n",
       "      <td>United States</td>\n",
       "      <td>2000</td>\n",
       "      <td>01-10-2000</td>\n",
       "      <td>Archery</td>\n",
       "      <td>0</td>\n",
       "      <td>0</td>\n",
       "      <td>1</td>\n",
       "      <td>1</td>\n",
       "    </tr>\n",
       "  </tbody>\n",
       "</table>\n",
       "</div>"
      ],
      "text/plain": [
       "                      name  age        country  year  Date_given   sports  \\\n",
       "8613      Olena Sadovnycha   32        Ukraine  2000  01-10-2000  Archery   \n",
       "8614      Kateryna Serdiuk   17        Ukraine  2000  01-10-2000  Archery   \n",
       "8615      Wietse van Alten   21    Netherlands  2000  01-10-2000  Archery   \n",
       "8616  Sandra Wagner-Sachse   31        Germany  2000  01-10-2000  Archery   \n",
       "8617             Rod White   23  United States  2000  01-10-2000  Archery   \n",
       "\n",
       "      gold_medal  silver_medal  bronze_medal  total_medal  \n",
       "8613           0             1             0            1  \n",
       "8614           0             1             0            1  \n",
       "8615           0             0             1            1  \n",
       "8616           0             0             1            1  \n",
       "8617           0             0             1            1  "
      ]
     },
     "execution_count": 10,
     "metadata": {},
     "output_type": "execute_result"
    }
   ],
   "source": [
    "# Exploring last 5 rows of dataset using tail function.\n",
    "df.tail(5) "
   ]
  },
  {
   "cell_type": "code",
   "execution_count": 11,
   "id": "75f2594e",
   "metadata": {},
   "outputs": [
    {
     "name": "stdout",
     "output_type": "stream",
     "text": [
      "<class 'pandas.core.frame.DataFrame'>\n",
      "RangeIndex: 8618 entries, 0 to 8617\n",
      "Data columns (total 10 columns):\n",
      " #   Column        Non-Null Count  Dtype \n",
      "---  ------        --------------  ----- \n",
      " 0   name          8613 non-null   object\n",
      " 1   age           8618 non-null   int64 \n",
      " 2   country       8618 non-null   object\n",
      " 3   year          8618 non-null   int64 \n",
      " 4   Date_given    8618 non-null   object\n",
      " 5   sports        8618 non-null   object\n",
      " 6   gold_medal    8618 non-null   int64 \n",
      " 7   silver_medal  8618 non-null   int64 \n",
      " 8   bronze_medal  8618 non-null   int64 \n",
      " 9   total_medal   8618 non-null   int64 \n",
      "dtypes: int64(6), object(4)\n",
      "memory usage: 673.4+ KB\n"
     ]
    }
   ],
   "source": [
    "#To check for basic information of the dataset such as null elements and datatypes of column, memory usage by data\n",
    "df.info()   "
   ]
  },
  {
   "cell_type": "markdown",
   "id": "ea7f865f",
   "metadata": {},
   "source": [
    "##### Using info() function we get to know following information about the given dataset:\n",
    "\n",
    "• There are total 8618 entries i.e. there are 8618 rows and 10 columns.`\n",
    "\n",
    "• For name and age columns Non-Null Count is less than total rows which suggest missing values are present.\n",
    "\n",
    "• All column's datatypes are reading correctly.\n"
   ]
  },
  {
   "cell_type": "markdown",
   "id": "21db0e7d",
   "metadata": {},
   "source": [
    "### Dealing with Missing values and Duplicate values using pandas\n",
    "\n",
    "Handling missing values and duplicate values is the important step to perform before analysis of data. Presence of this kind of data can affect our analysis and create bias in the study of dataset. It can cause error while giving output. Therefore, data cleansing is important step in data analysis.\n",
    "\n",
    "First, we will check for null values in the dataset after that, we will check duplicate values."
   ]
  },
  {
   "cell_type": "code",
   "execution_count": 14,
   "id": "b0bf39c3",
   "metadata": {},
   "outputs": [
    {
     "data": {
      "text/plain": [
       "name             True\n",
       "age             False\n",
       "country         False\n",
       "year            False\n",
       "Date_given      False\n",
       "sports          False\n",
       "gold_medal      False\n",
       "silver_medal    False\n",
       "bronze_medal    False\n",
       "total_medal     False\n",
       "dtype: bool"
      ]
     },
     "execution_count": 14,
     "metadata": {},
     "output_type": "execute_result"
    }
   ],
   "source": [
    "#to check which column have missing values using isna()\n",
    "df.isna().any()"
   ]
  },
  {
   "cell_type": "markdown",
   "id": "ac6d635a",
   "metadata": {},
   "source": [
    "The isna().any() returns output in the boolean form. From above we can see that for name and age column value is True, which means null values or NaN values are present in those two columns."
   ]
  },
  {
   "cell_type": "code",
   "execution_count": 16,
   "id": "e0ccebfa",
   "metadata": {},
   "outputs": [
    {
     "data": {
      "text/plain": [
       "name            5\n",
       "age             0\n",
       "country         0\n",
       "year            0\n",
       "Date_given      0\n",
       "sports          0\n",
       "gold_medal      0\n",
       "silver_medal    0\n",
       "bronze_medal    0\n",
       "total_medal     0\n",
       "dtype: int64"
      ]
     },
     "execution_count": 16,
     "metadata": {},
     "output_type": "execute_result"
    }
   ],
   "source": [
    "#to check number of missing values\n",
    "df.isna().sum()"
   ]
  },
  {
   "cell_type": "markdown",
   "id": "bf5a7003",
   "metadata": {},
   "source": [
    "There are 5 null values present. We will explore rows having null values as follows:"
   ]
  },
  {
   "cell_type": "code",
   "execution_count": 18,
   "id": "70851677",
   "metadata": {},
   "outputs": [
    {
     "data": {
      "text/html": [
       "<div>\n",
       "<style scoped>\n",
       "    .dataframe tbody tr th:only-of-type {\n",
       "        vertical-align: middle;\n",
       "    }\n",
       "\n",
       "    .dataframe tbody tr th {\n",
       "        vertical-align: top;\n",
       "    }\n",
       "\n",
       "    .dataframe thead th {\n",
       "        text-align: right;\n",
       "    }\n",
       "</style>\n",
       "<table border=\"1\" class=\"dataframe\">\n",
       "  <thead>\n",
       "    <tr style=\"text-align: right;\">\n",
       "      <th></th>\n",
       "      <th>name</th>\n",
       "      <th>age</th>\n",
       "      <th>country</th>\n",
       "      <th>year</th>\n",
       "      <th>Date_given</th>\n",
       "      <th>sports</th>\n",
       "      <th>gold_medal</th>\n",
       "      <th>silver_medal</th>\n",
       "      <th>bronze_medal</th>\n",
       "      <th>total_medal</th>\n",
       "    </tr>\n",
       "  </thead>\n",
       "  <tbody>\n",
       "    <tr>\n",
       "      <th>1428</th>\n",
       "      <td>NaN</td>\n",
       "      <td>0</td>\n",
       "      <td>Brazil</td>\n",
       "      <td>2012</td>\n",
       "      <td>12-08-2012</td>\n",
       "      <td>Volleyball</td>\n",
       "      <td>0</td>\n",
       "      <td>1</td>\n",
       "      <td>0</td>\n",
       "      <td>1</td>\n",
       "    </tr>\n",
       "    <tr>\n",
       "      <th>1429</th>\n",
       "      <td>NaN</td>\n",
       "      <td>0</td>\n",
       "      <td>Brazil</td>\n",
       "      <td>2012</td>\n",
       "      <td>12-08-2012</td>\n",
       "      <td>Volleyball</td>\n",
       "      <td>0</td>\n",
       "      <td>1</td>\n",
       "      <td>0</td>\n",
       "      <td>1</td>\n",
       "    </tr>\n",
       "    <tr>\n",
       "      <th>1430</th>\n",
       "      <td>NaN</td>\n",
       "      <td>0</td>\n",
       "      <td>Brazil</td>\n",
       "      <td>2012</td>\n",
       "      <td>12-08-2012</td>\n",
       "      <td>Volleyball</td>\n",
       "      <td>0</td>\n",
       "      <td>1</td>\n",
       "      <td>0</td>\n",
       "      <td>1</td>\n",
       "    </tr>\n",
       "    <tr>\n",
       "      <th>4485</th>\n",
       "      <td>NaN</td>\n",
       "      <td>0</td>\n",
       "      <td>Argentina</td>\n",
       "      <td>2012</td>\n",
       "      <td>12-08-2012</td>\n",
       "      <td>Hockey</td>\n",
       "      <td>0</td>\n",
       "      <td>1</td>\n",
       "      <td>0</td>\n",
       "      <td>1</td>\n",
       "    </tr>\n",
       "    <tr>\n",
       "      <th>4486</th>\n",
       "      <td>NaN</td>\n",
       "      <td>0</td>\n",
       "      <td>Argentina</td>\n",
       "      <td>2012</td>\n",
       "      <td>12-08-2012</td>\n",
       "      <td>Hockey</td>\n",
       "      <td>0</td>\n",
       "      <td>1</td>\n",
       "      <td>0</td>\n",
       "      <td>1</td>\n",
       "    </tr>\n",
       "  </tbody>\n",
       "</table>\n",
       "</div>"
      ],
      "text/plain": [
       "     name  age    country  year  Date_given      sports  gold_medal  \\\n",
       "1428  NaN    0     Brazil  2012  12-08-2012  Volleyball           0   \n",
       "1429  NaN    0     Brazil  2012  12-08-2012  Volleyball           0   \n",
       "1430  NaN    0     Brazil  2012  12-08-2012  Volleyball           0   \n",
       "4485  NaN    0  Argentina  2012  12-08-2012      Hockey           0   \n",
       "4486  NaN    0  Argentina  2012  12-08-2012      Hockey           0   \n",
       "\n",
       "      silver_medal  bronze_medal  total_medal  \n",
       "1428             1             0            1  \n",
       "1429             1             0            1  \n",
       "1430             1             0            1  \n",
       "4485             1             0            1  \n",
       "4486             1             0            1  "
      ]
     },
     "execution_count": 18,
     "metadata": {},
     "output_type": "execute_result"
    }
   ],
   "source": [
    "df[df.isna().any(axis=1)]"
   ]
  },
  {
   "cell_type": "markdown",
   "id": "c4fd125c",
   "metadata": {},
   "source": [
    "We can see these 5 entries are having NaN values i.e. missing values.\n",
    "\n",
    "Futher, we will check for duplicates present."
   ]
  },
  {
   "cell_type": "code",
   "execution_count": 20,
   "id": "4c59af21",
   "metadata": {},
   "outputs": [
    {
     "data": {
      "text/plain": [
       "3"
      ]
     },
     "execution_count": 20,
     "metadata": {},
     "output_type": "execute_result"
    }
   ],
   "source": [
    "#to check for count of duplicates\n",
    "df.duplicated().sum()"
   ]
  },
  {
   "cell_type": "code",
   "execution_count": 21,
   "id": "d63ad56f",
   "metadata": {},
   "outputs": [
    {
     "data": {
      "text/html": [
       "<div>\n",
       "<style scoped>\n",
       "    .dataframe tbody tr th:only-of-type {\n",
       "        vertical-align: middle;\n",
       "    }\n",
       "\n",
       "    .dataframe tbody tr th {\n",
       "        vertical-align: top;\n",
       "    }\n",
       "\n",
       "    .dataframe thead th {\n",
       "        text-align: right;\n",
       "    }\n",
       "</style>\n",
       "<table border=\"1\" class=\"dataframe\">\n",
       "  <thead>\n",
       "    <tr style=\"text-align: right;\">\n",
       "      <th></th>\n",
       "      <th>name</th>\n",
       "      <th>age</th>\n",
       "      <th>country</th>\n",
       "      <th>year</th>\n",
       "      <th>Date_given</th>\n",
       "      <th>sports</th>\n",
       "      <th>gold_medal</th>\n",
       "      <th>silver_medal</th>\n",
       "      <th>bronze_medal</th>\n",
       "      <th>total_medal</th>\n",
       "    </tr>\n",
       "  </thead>\n",
       "  <tbody>\n",
       "    <tr>\n",
       "      <th>1429</th>\n",
       "      <td>NaN</td>\n",
       "      <td>0</td>\n",
       "      <td>Brazil</td>\n",
       "      <td>2012</td>\n",
       "      <td>12-08-2012</td>\n",
       "      <td>Volleyball</td>\n",
       "      <td>0</td>\n",
       "      <td>1</td>\n",
       "      <td>0</td>\n",
       "      <td>1</td>\n",
       "    </tr>\n",
       "    <tr>\n",
       "      <th>1430</th>\n",
       "      <td>NaN</td>\n",
       "      <td>0</td>\n",
       "      <td>Brazil</td>\n",
       "      <td>2012</td>\n",
       "      <td>12-08-2012</td>\n",
       "      <td>Volleyball</td>\n",
       "      <td>0</td>\n",
       "      <td>1</td>\n",
       "      <td>0</td>\n",
       "      <td>1</td>\n",
       "    </tr>\n",
       "    <tr>\n",
       "      <th>4486</th>\n",
       "      <td>NaN</td>\n",
       "      <td>0</td>\n",
       "      <td>Argentina</td>\n",
       "      <td>2012</td>\n",
       "      <td>12-08-2012</td>\n",
       "      <td>Hockey</td>\n",
       "      <td>0</td>\n",
       "      <td>1</td>\n",
       "      <td>0</td>\n",
       "      <td>1</td>\n",
       "    </tr>\n",
       "  </tbody>\n",
       "</table>\n",
       "</div>"
      ],
      "text/plain": [
       "     name  age    country  year  Date_given      sports  gold_medal  \\\n",
       "1429  NaN    0     Brazil  2012  12-08-2012  Volleyball           0   \n",
       "1430  NaN    0     Brazil  2012  12-08-2012  Volleyball           0   \n",
       "4486  NaN    0  Argentina  2012  12-08-2012      Hockey           0   \n",
       "\n",
       "      silver_medal  bronze_medal  total_medal  \n",
       "1429             1             0            1  \n",
       "1430             1             0            1  \n",
       "4486             1             0            1  "
      ]
     },
     "execution_count": 21,
     "metadata": {},
     "output_type": "execute_result"
    }
   ],
   "source": [
    "#exploring duplicated rows present in df\n",
    "df[df.duplicated()]"
   ]
  },
  {
   "cell_type": "markdown",
   "id": "03cd3110",
   "metadata": {},
   "source": [
    "From above we can explore 3 duplicate values which are present only for columns having NaN values.\n",
    "\n",
    "As we can see there are only three duplicate rows in entire dataset. Our dataset and findings will not affect if we drop them. Hence we will drop duplicate rows."
   ]
  },
  {
   "cell_type": "code",
   "execution_count": 23,
   "id": "76786a4c",
   "metadata": {},
   "outputs": [],
   "source": [
    "#dropping all duplicates from df\n",
    "df.drop_duplicates(inplace=True)"
   ]
  },
  {
   "cell_type": "code",
   "execution_count": 24,
   "id": "8b350178",
   "metadata": {},
   "outputs": [
    {
     "data": {
      "text/plain": [
       "0"
      ]
     },
     "execution_count": 24,
     "metadata": {},
     "output_type": "execute_result"
    }
   ],
   "source": [
    "#to recheck if all duplicates are removed or not\n",
    "df.duplicated().sum()"
   ]
  },
  {
   "cell_type": "markdown",
   "id": "dab5321d",
   "metadata": {},
   "source": [
    "All duplicates are successfully removed from our original dataset, as we have set inplace parameter true. Now our data set has 8615 rows.\n",
    "\n",
    "Now, we will fill 'unknown' value for NaN values in name column using fillna(). After that we will cross check if values are filled successfully or not using index."
   ]
  },
  {
   "cell_type": "code",
   "execution_count": 26,
   "id": "259db620",
   "metadata": {},
   "outputs": [
    {
     "data": {
      "text/html": [
       "<div>\n",
       "<style scoped>\n",
       "    .dataframe tbody tr th:only-of-type {\n",
       "        vertical-align: middle;\n",
       "    }\n",
       "\n",
       "    .dataframe tbody tr th {\n",
       "        vertical-align: top;\n",
       "    }\n",
       "\n",
       "    .dataframe thead th {\n",
       "        text-align: right;\n",
       "    }\n",
       "</style>\n",
       "<table border=\"1\" class=\"dataframe\">\n",
       "  <thead>\n",
       "    <tr style=\"text-align: right;\">\n",
       "      <th></th>\n",
       "      <th>name</th>\n",
       "      <th>age</th>\n",
       "      <th>country</th>\n",
       "      <th>year</th>\n",
       "      <th>Date_given</th>\n",
       "      <th>sports</th>\n",
       "      <th>gold_medal</th>\n",
       "      <th>silver_medal</th>\n",
       "      <th>bronze_medal</th>\n",
       "      <th>total_medal</th>\n",
       "    </tr>\n",
       "  </thead>\n",
       "  <tbody>\n",
       "    <tr>\n",
       "      <th>1428</th>\n",
       "      <td>unknown</td>\n",
       "      <td>0</td>\n",
       "      <td>Brazil</td>\n",
       "      <td>2012</td>\n",
       "      <td>12-08-2012</td>\n",
       "      <td>Volleyball</td>\n",
       "      <td>0</td>\n",
       "      <td>1</td>\n",
       "      <td>0</td>\n",
       "      <td>1</td>\n",
       "    </tr>\n",
       "    <tr>\n",
       "      <th>4485</th>\n",
       "      <td>unknown</td>\n",
       "      <td>0</td>\n",
       "      <td>Argentina</td>\n",
       "      <td>2012</td>\n",
       "      <td>12-08-2012</td>\n",
       "      <td>Hockey</td>\n",
       "      <td>0</td>\n",
       "      <td>1</td>\n",
       "      <td>0</td>\n",
       "      <td>1</td>\n",
       "    </tr>\n",
       "  </tbody>\n",
       "</table>\n",
       "</div>"
      ],
      "text/plain": [
       "         name  age    country  year  Date_given      sports  gold_medal  \\\n",
       "1428  unknown    0     Brazil  2012  12-08-2012  Volleyball           0   \n",
       "4485  unknown    0  Argentina  2012  12-08-2012      Hockey           0   \n",
       "\n",
       "      silver_medal  bronze_medal  total_medal  \n",
       "1428             1             0            1  \n",
       "4485             1             0            1  "
      ]
     },
     "execution_count": 26,
     "metadata": {},
     "output_type": "execute_result"
    }
   ],
   "source": [
    "df['name'].fillna('unknown', inplace =True)\n",
    "df.iloc[[1428,4483]]"
   ]
  },
  {
   "cell_type": "markdown",
   "id": "94b7c773",
   "metadata": {},
   "source": [
    "The NaN values in the name column has been successfully filled by 'unknown'.\n",
    "\n",
    "For filling age column, we can use mean value of age. \n",
    "As there are only two countries having NaN values, we can also use mean value for each country separately. For that, first we have to subset dataset for column country having Brazil and Argentina. And later we can find mean age for each country as follows:"
   ]
  },
  {
   "cell_type": "code",
   "execution_count": 28,
   "id": "5ca88e3c",
   "metadata": {},
   "outputs": [
    {
     "data": {
      "text/plain": [
       "age    26.399083\n",
       "dtype: float64"
      ]
     },
     "execution_count": 28,
     "metadata": {},
     "output_type": "execute_result"
    }
   ],
   "source": [
    "df_brazil = df[df[\"country\"]==\"Brazil\"]         #dataset having country as Brazil only\n",
    "df_brazil[['age']].mean()"
   ]
  },
  {
   "cell_type": "code",
   "execution_count": 29,
   "id": "187e8b3c",
   "metadata": {},
   "outputs": [
    {
     "data": {
      "text/plain": [
       "age    26.157143\n",
       "dtype: float64"
      ]
     },
     "execution_count": 29,
     "metadata": {},
     "output_type": "execute_result"
    }
   ],
   "source": [
    "df_argentina = df[df[\"country\"]==\"Argentina\"]   #dataset having country as Argentina only\n",
    "df_argentina[[\"age\"]].mean()"
   ]
  },
  {
   "cell_type": "code",
   "execution_count": 30,
   "id": "2bc166cc",
   "metadata": {},
   "outputs": [
    {
     "data": {
      "text/plain": [
       "age    26.399304\n",
       "dtype: float64"
      ]
     },
     "execution_count": 30,
     "metadata": {},
     "output_type": "execute_result"
    }
   ],
   "source": [
    "df[['age']].mean()   #mean age of whole dataset"
   ]
  },
  {
   "cell_type": "markdown",
   "id": "5ff34b44",
   "metadata": {},
   "source": [
    "But after finding mean ages for Brazil, and Argentina, we can see that it is almost equal. Also they are equal to mean age for whole dataset. Therefore we will fill NaN values in age column with mean age which is 26."
   ]
  },
  {
   "cell_type": "code",
   "execution_count": 32,
   "id": "c678b382",
   "metadata": {},
   "outputs": [
    {
     "data": {
      "text/html": [
       "<div>\n",
       "<style scoped>\n",
       "    .dataframe tbody tr th:only-of-type {\n",
       "        vertical-align: middle;\n",
       "    }\n",
       "\n",
       "    .dataframe tbody tr th {\n",
       "        vertical-align: top;\n",
       "    }\n",
       "\n",
       "    .dataframe thead th {\n",
       "        text-align: right;\n",
       "    }\n",
       "</style>\n",
       "<table border=\"1\" class=\"dataframe\">\n",
       "  <thead>\n",
       "    <tr style=\"text-align: right;\">\n",
       "      <th></th>\n",
       "      <th>name</th>\n",
       "      <th>age</th>\n",
       "      <th>country</th>\n",
       "      <th>year</th>\n",
       "      <th>Date_given</th>\n",
       "      <th>sports</th>\n",
       "      <th>gold_medal</th>\n",
       "      <th>silver_medal</th>\n",
       "      <th>bronze_medal</th>\n",
       "      <th>total_medal</th>\n",
       "    </tr>\n",
       "  </thead>\n",
       "  <tbody>\n",
       "    <tr>\n",
       "      <th>1428</th>\n",
       "      <td>unknown</td>\n",
       "      <td>0</td>\n",
       "      <td>Brazil</td>\n",
       "      <td>2012</td>\n",
       "      <td>12-08-2012</td>\n",
       "      <td>Volleyball</td>\n",
       "      <td>0</td>\n",
       "      <td>1</td>\n",
       "      <td>0</td>\n",
       "      <td>1</td>\n",
       "    </tr>\n",
       "    <tr>\n",
       "      <th>4485</th>\n",
       "      <td>unknown</td>\n",
       "      <td>0</td>\n",
       "      <td>Argentina</td>\n",
       "      <td>2012</td>\n",
       "      <td>12-08-2012</td>\n",
       "      <td>Hockey</td>\n",
       "      <td>0</td>\n",
       "      <td>1</td>\n",
       "      <td>0</td>\n",
       "      <td>1</td>\n",
       "    </tr>\n",
       "  </tbody>\n",
       "</table>\n",
       "</div>"
      ],
      "text/plain": [
       "         name  age    country  year  Date_given      sports  gold_medal  \\\n",
       "1428  unknown    0     Brazil  2012  12-08-2012  Volleyball           0   \n",
       "4485  unknown    0  Argentina  2012  12-08-2012      Hockey           0   \n",
       "\n",
       "      silver_medal  bronze_medal  total_medal  \n",
       "1428             1             0            1  \n",
       "4485             1             0            1  "
      ]
     },
     "execution_count": 32,
     "metadata": {},
     "output_type": "execute_result"
    }
   ],
   "source": [
    "df['age'].fillna(26, inplace =True)\n",
    "df.iloc[[1428,4483]]"
   ]
  },
  {
   "cell_type": "markdown",
   "id": "3d487cfe",
   "metadata": {},
   "source": [
    "The NaN values in the age column has been successfully filled by 26."
   ]
  },
  {
   "cell_type": "markdown",
   "id": "d7a20814",
   "metadata": {},
   "source": [
    "### To save cleaned csv file to the system\n",
    "\n",
    "Now we will save this cleaned dataset to our system using df.to_csv to the path we will provide as olympic_data.csv."
   ]
  },
  {
   "cell_type": "code",
   "execution_count": 35,
   "id": "e1ffac7a",
   "metadata": {},
   "outputs": [],
   "source": [
    "df.to_csv(r'olympics_data.csv', index = False)"
   ]
  },
  {
   "cell_type": "markdown",
   "id": "d282f61b",
   "metadata": {},
   "source": [
    "We have successfully stored csv file on given location"
   ]
  },
  {
   "cell_type": "markdown",
   "id": "a3c8fc1f",
   "metadata": {},
   "source": [
    "### Data Visualisation\n",
    "\n",
    "Data visualization is an important aspect, as we can gain key insights into our data through different graphical representations. It will help in making statistic analysis easy and comprehensive.\n",
    "\n",
    "We will plot histplot maxtrix first, as it shows distribution of a numeric variable's values as a series of bars for all numeric variables present. "
   ]
  },
  {
   "cell_type": "code",
   "execution_count": 38,
   "id": "07a7ed76",
   "metadata": {},
   "outputs": [
    {
     "data": {
      "image/png": "[encoded data removed]",
      "text/plain": [
       "<Figure size 720x1080 with 6 Axes>"
      ]
     },
     "metadata": {
      "needs_background": "light"
     },
     "output_type": "display_data"
    }
   ],
   "source": [
    "%matplotlib inline\n",
    "df.hist(bins=50, figsize=(10, 15),facecolor=\"dodgerblue\")\n",
    "plt.show()"
   ]
  },
  {
   "cell_type": "markdown",
   "id": "37e8f4ca-e27a-4d08-a923-4d0dd5b38390",
   "metadata": {},
   "source": [
    "### To check 'age' distribution of Participants"
   ]
  },
  {
   "cell_type": "code",
   "execution_count": 40,
   "id": "a89742e0",
   "metadata": {},
   "outputs": [
    {
     "data": {
      "image/png": "[encoded data removed]",
      "text/plain": [
       "<Figure size 432x288 with 1 Axes>"
      ]
     },
     "metadata": {
      "needs_background": "light"
     },
     "output_type": "display_data"
    }
   ],
   "source": [
    "plt.hist(df.age,bins=np.arange(10,80,2), edgecolor=\"white\",facecolor=\"dodgerblue\")\n",
    "plt.xlabel(\"age\")\n",
    "plt.ylabel(\"no. of paricipants\")\n",
    "plt.title(\"Age Distribution of Participants\")\n",
    "plt.show()"
   ]
  },
  {
   "cell_type": "markdown",
   "id": "4842614c",
   "metadata": {},
   "source": [
    "### Performing appropriate Numerical Measures on each column\n",
    "\n",
    "The describe() function generates summary of descriptive statistics for all the columns. It can analyze both numeric as ell as object type data.\n",
    "\n",
    "### Applying describe() to numeric type data columns\n",
    "\n",
    "For numeric data the, result’s index will include count, mean, std, min, max, IQR i.e. 25, 50, and 75 percentiles."
   ]
  },
  {
   "cell_type": "code",
   "execution_count": 42,
   "id": "1d81220b",
   "metadata": {},
   "outputs": [
    {
     "data": {
      "text/html": [
       "<div>\n",
       "<style scoped>\n",
       "    .dataframe tbody tr th:only-of-type {\n",
       "        vertical-align: middle;\n",
       "    }\n",
       "\n",
       "    .dataframe tbody tr th {\n",
       "        vertical-align: top;\n",
       "    }\n",
       "\n",
       "    .dataframe thead th {\n",
       "        text-align: right;\n",
       "    }\n",
       "</style>\n",
       "<table border=\"1\" class=\"dataframe\">\n",
       "  <thead>\n",
       "    <tr style=\"text-align: right;\">\n",
       "      <th></th>\n",
       "      <th>age</th>\n",
       "      <th>year</th>\n",
       "      <th>gold_medal</th>\n",
       "      <th>silver_medal</th>\n",
       "      <th>bronze_medal</th>\n",
       "      <th>total_medal</th>\n",
       "    </tr>\n",
       "  </thead>\n",
       "  <tbody>\n",
       "    <tr>\n",
       "      <th>count</th>\n",
       "      <td>8615.000000</td>\n",
       "      <td>8615.000000</td>\n",
       "      <td>8615.000000</td>\n",
       "      <td>8615.000000</td>\n",
       "      <td>8615.000000</td>\n",
       "      <td>8615.000000</td>\n",
       "    </tr>\n",
       "    <tr>\n",
       "      <th>mean</th>\n",
       "      <td>26.399304</td>\n",
       "      <td>2005.976785</td>\n",
       "      <td>0.364829</td>\n",
       "      <td>0.363088</td>\n",
       "      <td>0.377829</td>\n",
       "      <td>1.105746</td>\n",
       "    </tr>\n",
       "    <tr>\n",
       "      <th>std</th>\n",
       "      <td>5.117364</td>\n",
       "      <td>4.289221</td>\n",
       "      <td>0.545401</td>\n",
       "      <td>0.511564</td>\n",
       "      <td>0.505044</td>\n",
       "      <td>0.408958</td>\n",
       "    </tr>\n",
       "    <tr>\n",
       "      <th>min</th>\n",
       "      <td>0.000000</td>\n",
       "      <td>2000.000000</td>\n",
       "      <td>0.000000</td>\n",
       "      <td>0.000000</td>\n",
       "      <td>0.000000</td>\n",
       "      <td>1.000000</td>\n",
       "    </tr>\n",
       "    <tr>\n",
       "      <th>25%</th>\n",
       "      <td>23.000000</td>\n",
       "      <td>2002.000000</td>\n",
       "      <td>0.000000</td>\n",
       "      <td>0.000000</td>\n",
       "      <td>0.000000</td>\n",
       "      <td>1.000000</td>\n",
       "    </tr>\n",
       "    <tr>\n",
       "      <th>50%</th>\n",
       "      <td>26.000000</td>\n",
       "      <td>2006.000000</td>\n",
       "      <td>0.000000</td>\n",
       "      <td>0.000000</td>\n",
       "      <td>0.000000</td>\n",
       "      <td>1.000000</td>\n",
       "    </tr>\n",
       "    <tr>\n",
       "      <th>75%</th>\n",
       "      <td>29.000000</td>\n",
       "      <td>2010.000000</td>\n",
       "      <td>1.000000</td>\n",
       "      <td>1.000000</td>\n",
       "      <td>1.000000</td>\n",
       "      <td>1.000000</td>\n",
       "    </tr>\n",
       "    <tr>\n",
       "      <th>max</th>\n",
       "      <td>61.000000</td>\n",
       "      <td>2012.000000</td>\n",
       "      <td>8.000000</td>\n",
       "      <td>3.000000</td>\n",
       "      <td>3.000000</td>\n",
       "      <td>8.000000</td>\n",
       "    </tr>\n",
       "  </tbody>\n",
       "</table>\n",
       "</div>"
      ],
      "text/plain": [
       "               age         year   gold_medal  silver_medal  bronze_medal  \\\n",
       "count  8615.000000  8615.000000  8615.000000   8615.000000   8615.000000   \n",
       "mean     26.399304  2005.976785     0.364829      0.363088      0.377829   \n",
       "std       5.117364     4.289221     0.545401      0.511564      0.505044   \n",
       "min       0.000000  2000.000000     0.000000      0.000000      0.000000   \n",
       "25%      23.000000  2002.000000     0.000000      0.000000      0.000000   \n",
       "50%      26.000000  2006.000000     0.000000      0.000000      0.000000   \n",
       "75%      29.000000  2010.000000     1.000000      1.000000      1.000000   \n",
       "max      61.000000  2012.000000     8.000000      3.000000      3.000000   \n",
       "\n",
       "       total_medal  \n",
       "count  8615.000000  \n",
       "mean      1.105746  \n",
       "std       0.408958  \n",
       "min       1.000000  \n",
       "25%       1.000000  \n",
       "50%       1.000000  \n",
       "75%       1.000000  \n",
       "max       8.000000  "
      ]
     },
     "execution_count": 42,
     "metadata": {},
     "output_type": "execute_result"
    }
   ],
   "source": [
    "df.describe()"
   ]
  },
  {
   "cell_type": "markdown",
   "id": "dc7fe027",
   "metadata": {},
   "source": [
    "Where,\n",
    "\n",
    "**count** is the number of objects in the column.\n",
    "\n",
    "**mean** is the mean value of the (numeric)column.\n",
    "\n",
    "**std**\tis the Standard Deviation of values in the column.\n",
    "\n",
    "**min** is the minimum value appearing in the column.\n",
    "\n",
    "**25%** is the 25th percentile of values in the column.\n",
    "\n",
    "**50%**\tis the 50th percentile of values in the column.\n",
    "\n",
    "**75%**\tis the 75th percentile of values in the column.\n",
    "\n",
    "**max** is the maximum value appearing in the column.\n",
    "\n",
    "\n",
    "The result of df.describe() is self-explanatory. We can check various outcomes in the output."
   ]
  },
  {
   "cell_type": "markdown",
   "id": "1f4f0b37",
   "metadata": {},
   "source": [
    "### Applying describe() to object type data columns\n",
    "\n",
    "For object data the result’s index will include count, unique, top, and freq."
   ]
  },
  {
   "cell_type": "code",
   "execution_count": 45,
   "id": "3b3552e9",
   "metadata": {},
   "outputs": [
    {
     "data": {
      "text/html": [
       "<div>\n",
       "<style scoped>\n",
       "    .dataframe tbody tr th:only-of-type {\n",
       "        vertical-align: middle;\n",
       "    }\n",
       "\n",
       "    .dataframe tbody tr th {\n",
       "        vertical-align: top;\n",
       "    }\n",
       "\n",
       "    .dataframe thead th {\n",
       "        text-align: right;\n",
       "    }\n",
       "</style>\n",
       "<table border=\"1\" class=\"dataframe\">\n",
       "  <thead>\n",
       "    <tr style=\"text-align: right;\">\n",
       "      <th></th>\n",
       "      <th>name</th>\n",
       "      <th>country</th>\n",
       "      <th>Date_given</th>\n",
       "      <th>sports</th>\n",
       "    </tr>\n",
       "  </thead>\n",
       "  <tbody>\n",
       "    <tr>\n",
       "      <th>count</th>\n",
       "      <td>8615</td>\n",
       "      <td>8615</td>\n",
       "      <td>8615</td>\n",
       "      <td>8615</td>\n",
       "    </tr>\n",
       "    <tr>\n",
       "      <th>unique</th>\n",
       "      <td>6958</td>\n",
       "      <td>110</td>\n",
       "      <td>7</td>\n",
       "      <td>49</td>\n",
       "    </tr>\n",
       "    <tr>\n",
       "      <th>top</th>\n",
       "      <td>Matt Wells</td>\n",
       "      <td>United States</td>\n",
       "      <td>24-08-2008</td>\n",
       "      <td>Athletics</td>\n",
       "    </tr>\n",
       "    <tr>\n",
       "      <th>freq</th>\n",
       "      <td>4</td>\n",
       "      <td>1109</td>\n",
       "      <td>1872</td>\n",
       "      <td>687</td>\n",
       "    </tr>\n",
       "  </tbody>\n",
       "</table>\n",
       "</div>"
      ],
      "text/plain": [
       "              name        country  Date_given     sports\n",
       "count         8615           8615        8615       8615\n",
       "unique        6958            110           7         49\n",
       "top     Matt Wells  United States  24-08-2008  Athletics\n",
       "freq             4           1109        1872        687"
      ]
     },
     "execution_count": 45,
     "metadata": {},
     "output_type": "execute_result"
    }
   ],
   "source": [
    "df.describe(include=object)"
   ]
  },
  {
   "cell_type": "markdown",
   "id": "2688d83b",
   "metadata": {},
   "source": [
    "Where,\n",
    "\n",
    "• **count** is the number of objects in the column.\n",
    "\n",
    "• **unique** is the number of distinct object in the column.\n",
    "\n",
    "• **top** is the Most frequently occurring object in the column.\n",
    "\n",
    "• **freq** is te number of times the top appearing object in the column.\n",
    "\n",
    "The result of df.describe(include=object) is self-explanatory. We can check various outcomes in the output.\n",
    "\n",
    "Additionally, we can explore correlation and variance for numeric type data column. "
   ]
  },
  {
   "cell_type": "markdown",
   "id": "3506fb64",
   "metadata": {},
   "source": [
    "### Exploring country column\n",
    "\n",
    "We can check which country is having maximum participants in the over all years from 2000 to 2012."
   ]
  },
  {
   "cell_type": "code",
   "execution_count": 48,
   "id": "ed836fd3",
   "metadata": {},
   "outputs": [
    {
     "data": {
      "text/plain": [
       "United States    1109\n",
       "Russia            706\n",
       "Germany           552\n",
       "Australia         524\n",
       "China             450\n",
       "Canada            351\n",
       "Italy             307\n",
       "Great Britain     296\n",
       "France            287\n",
       "Netherlands       286\n",
       "Name: country, dtype: int64"
      ]
     },
     "execution_count": 48,
     "metadata": {},
     "output_type": "execute_result"
    }
   ],
   "source": [
    "df.country.value_counts().sort_values(ascending=False).head(10)"
   ]
  },
  {
   "cell_type": "markdown",
   "id": "5790e1ac",
   "metadata": {},
   "source": [
    "The United States is highly participating in the Olympic Games. Also we have the top ten countries having highest participants.\n",
    "\n",
    "### Exploring year column\n",
    "\n",
    "We can find out years for which Olympic's data is given as bellow:"
   ]
  },
  {
   "cell_type": "code",
   "execution_count": 50,
   "id": "3f8b4986",
   "metadata": {},
   "outputs": [
    {
     "data": {
      "text/plain": [
       "array([2008, 2004, 2012, 2000, 2006, 2010, 2002])"
      ]
     },
     "execution_count": 50,
     "metadata": {},
     "output_type": "execute_result"
    }
   ],
   "source": [
    "df[\"year\"].unique()"
   ]
  },
  {
   "cell_type": "markdown",
   "id": "795da37b",
   "metadata": {},
   "source": [
    "### Exploring country column\n",
    "\n",
    "We will check sportsperson from India who is in our dataset."
   ]
  },
  {
   "cell_type": "code",
   "execution_count": 52,
   "id": "bd96b64c",
   "metadata": {},
   "outputs": [
    {
     "data": {
      "text/html": [
       "<div>\n",
       "<style scoped>\n",
       "    .dataframe tbody tr th:only-of-type {\n",
       "        vertical-align: middle;\n",
       "    }\n",
       "\n",
       "    .dataframe tbody tr th {\n",
       "        vertical-align: top;\n",
       "    }\n",
       "\n",
       "    .dataframe thead th {\n",
       "        text-align: right;\n",
       "    }\n",
       "</style>\n",
       "<table border=\"1\" class=\"dataframe\">\n",
       "  <thead>\n",
       "    <tr style=\"text-align: right;\">\n",
       "      <th></th>\n",
       "      <th>name</th>\n",
       "      <th>age</th>\n",
       "      <th>country</th>\n",
       "      <th>year</th>\n",
       "      <th>Date_given</th>\n",
       "      <th>sports</th>\n",
       "      <th>gold_medal</th>\n",
       "      <th>silver_medal</th>\n",
       "      <th>bronze_medal</th>\n",
       "      <th>total_medal</th>\n",
       "    </tr>\n",
       "  </thead>\n",
       "  <tbody>\n",
       "    <tr>\n",
       "      <th>702</th>\n",
       "      <td>Yogeshwar Dutt</td>\n",
       "      <td>29</td>\n",
       "      <td>India</td>\n",
       "      <td>2012</td>\n",
       "      <td>12-08-2012</td>\n",
       "      <td>Wrestling</td>\n",
       "      <td>0</td>\n",
       "      <td>0</td>\n",
       "      <td>1</td>\n",
       "      <td>1</td>\n",
       "    </tr>\n",
       "    <tr>\n",
       "      <th>722</th>\n",
       "      <td>Sushil Kumar</td>\n",
       "      <td>29</td>\n",
       "      <td>India</td>\n",
       "      <td>2012</td>\n",
       "      <td>12-08-2012</td>\n",
       "      <td>Wrestling</td>\n",
       "      <td>0</td>\n",
       "      <td>1</td>\n",
       "      <td>0</td>\n",
       "      <td>1</td>\n",
       "    </tr>\n",
       "    <tr>\n",
       "      <th>797</th>\n",
       "      <td>Sushil Kumar</td>\n",
       "      <td>25</td>\n",
       "      <td>India</td>\n",
       "      <td>2008</td>\n",
       "      <td>24-08-2008</td>\n",
       "      <td>Wrestling</td>\n",
       "      <td>0</td>\n",
       "      <td>0</td>\n",
       "      <td>1</td>\n",
       "      <td>1</td>\n",
       "    </tr>\n",
       "    <tr>\n",
       "      <th>1094</th>\n",
       "      <td>Karnam Malleswari</td>\n",
       "      <td>25</td>\n",
       "      <td>India</td>\n",
       "      <td>2000</td>\n",
       "      <td>01-10-2000</td>\n",
       "      <td>Weightlifting</td>\n",
       "      <td>0</td>\n",
       "      <td>0</td>\n",
       "      <td>1</td>\n",
       "      <td>1</td>\n",
       "    </tr>\n",
       "    <tr>\n",
       "      <th>2786</th>\n",
       "      <td>Vijay Kumar</td>\n",
       "      <td>26</td>\n",
       "      <td>India</td>\n",
       "      <td>2012</td>\n",
       "      <td>12-08-2012</td>\n",
       "      <td>Shooting</td>\n",
       "      <td>0</td>\n",
       "      <td>1</td>\n",
       "      <td>0</td>\n",
       "      <td>1</td>\n",
       "    </tr>\n",
       "    <tr>\n",
       "      <th>2791</th>\n",
       "      <td>Gagan Narang</td>\n",
       "      <td>29</td>\n",
       "      <td>India</td>\n",
       "      <td>2012</td>\n",
       "      <td>12-08-2012</td>\n",
       "      <td>Shooting</td>\n",
       "      <td>0</td>\n",
       "      <td>0</td>\n",
       "      <td>1</td>\n",
       "      <td>1</td>\n",
       "    </tr>\n",
       "    <tr>\n",
       "      <th>2807</th>\n",
       "      <td>Abhinav Bindra</td>\n",
       "      <td>25</td>\n",
       "      <td>India</td>\n",
       "      <td>2008</td>\n",
       "      <td>24-08-2008</td>\n",
       "      <td>Shooting</td>\n",
       "      <td>1</td>\n",
       "      <td>0</td>\n",
       "      <td>0</td>\n",
       "      <td>1</td>\n",
       "    </tr>\n",
       "    <tr>\n",
       "      <th>2877</th>\n",
       "      <td>Rajyavardhan Rathore</td>\n",
       "      <td>34</td>\n",
       "      <td>India</td>\n",
       "      <td>2004</td>\n",
       "      <td>29-08-2004</td>\n",
       "      <td>Shooting</td>\n",
       "      <td>0</td>\n",
       "      <td>1</td>\n",
       "      <td>0</td>\n",
       "      <td>1</td>\n",
       "    </tr>\n",
       "    <tr>\n",
       "      <th>7170</th>\n",
       "      <td>M. C. Mary Kom</td>\n",
       "      <td>29</td>\n",
       "      <td>India</td>\n",
       "      <td>2012</td>\n",
       "      <td>12-08-2012</td>\n",
       "      <td>Boxing</td>\n",
       "      <td>0</td>\n",
       "      <td>0</td>\n",
       "      <td>1</td>\n",
       "      <td>1</td>\n",
       "    </tr>\n",
       "    <tr>\n",
       "      <th>7235</th>\n",
       "      <td>Vijender Singh</td>\n",
       "      <td>22</td>\n",
       "      <td>India</td>\n",
       "      <td>2008</td>\n",
       "      <td>24-08-2008</td>\n",
       "      <td>Boxing</td>\n",
       "      <td>0</td>\n",
       "      <td>0</td>\n",
       "      <td>1</td>\n",
       "      <td>1</td>\n",
       "    </tr>\n",
       "    <tr>\n",
       "      <th>7806</th>\n",
       "      <td>Saina Nehwal</td>\n",
       "      <td>22</td>\n",
       "      <td>India</td>\n",
       "      <td>2012</td>\n",
       "      <td>12-08-2012</td>\n",
       "      <td>Badminton</td>\n",
       "      <td>0</td>\n",
       "      <td>0</td>\n",
       "      <td>1</td>\n",
       "      <td>1</td>\n",
       "    </tr>\n",
       "  </tbody>\n",
       "</table>\n",
       "</div>"
      ],
      "text/plain": [
       "                      name  age country  year  Date_given         sports  \\\n",
       "702         Yogeshwar Dutt   29   India  2012  12-08-2012      Wrestling   \n",
       "722           Sushil Kumar   29   India  2012  12-08-2012      Wrestling   \n",
       "797           Sushil Kumar   25   India  2008  24-08-2008      Wrestling   \n",
       "1094     Karnam Malleswari   25   India  2000  01-10-2000  Weightlifting   \n",
       "2786           Vijay Kumar   26   India  2012  12-08-2012       Shooting   \n",
       "2791          Gagan Narang   29   India  2012  12-08-2012       Shooting   \n",
       "2807        Abhinav Bindra   25   India  2008  24-08-2008       Shooting   \n",
       "2877  Rajyavardhan Rathore   34   India  2004  29-08-2004       Shooting   \n",
       "7170        M. C. Mary Kom   29   India  2012  12-08-2012         Boxing   \n",
       "7235        Vijender Singh   22   India  2008  24-08-2008         Boxing   \n",
       "7806          Saina Nehwal   22   India  2012  12-08-2012      Badminton   \n",
       "\n",
       "      gold_medal  silver_medal  bronze_medal  total_medal  \n",
       "702            0             0             1            1  \n",
       "722            0             1             0            1  \n",
       "797            0             0             1            1  \n",
       "1094           0             0             1            1  \n",
       "2786           0             1             0            1  \n",
       "2791           0             0             1            1  \n",
       "2807           1             0             0            1  \n",
       "2877           0             1             0            1  \n",
       "7170           0             0             1            1  \n",
       "7235           0             0             1            1  \n",
       "7806           0             0             1            1  "
      ]
     },
     "execution_count": 52,
     "metadata": {},
     "output_type": "execute_result"
    }
   ],
   "source": [
    "df_india = df.query('country == \"India\"')\n",
    "df_india"
   ]
  },
  {
   "cell_type": "code",
   "execution_count": 53,
   "id": "d9e63e6a",
   "metadata": {},
   "outputs": [
    {
     "data": {
      "text/plain": [
       "11"
      ]
     },
     "execution_count": 53,
     "metadata": {},
     "output_type": "execute_result"
    }
   ],
   "source": [
    "df_india.name.count()"
   ]
  },
  {
   "cell_type": "code",
   "execution_count": 54,
   "id": "f2aec263",
   "metadata": {},
   "outputs": [
    {
     "data": {
      "text/plain": [
       "array([2012, 2008, 2000, 2004])"
      ]
     },
     "execution_count": 54,
     "metadata": {},
     "output_type": "execute_result"
    }
   ],
   "source": [
    "df_india[\"year\"].unique()"
   ]
  },
  {
   "cell_type": "code",
   "execution_count": 55,
   "id": "0cc05ea8",
   "metadata": {},
   "outputs": [
    {
     "data": {
      "text/plain": [
       "array(['Wrestling', 'Weightlifting', 'Shooting', 'Boxing', 'Badminton'],\n",
       "      dtype=object)"
      ]
     },
     "execution_count": 55,
     "metadata": {},
     "output_type": "execute_result"
    }
   ],
   "source": [
    "df_india[\"sports\"].unique()"
   ]
  },
  {
   "cell_type": "markdown",
   "id": "e69e311e",
   "metadata": {},
   "source": [
    "There are 11 sportsperson from India who won medals in the Olympic Games in the years 2000,2004,2008 and 2012. They have participated in sports listed as 'Wrestling', 'Weightlifting', 'Shooting', 'Boxing', 'Badminton'"
   ]
  },
  {
   "cell_type": "markdown",
   "id": "2d554a53",
   "metadata": {},
   "source": [
    "### Exploring sports column\n",
    "\n",
    "We know there are 49 types of different sports are involved in the Olympics from describe() function. Now we will find out names of different types of sports played in Olympics as follows:"
   ]
  },
  {
   "cell_type": "code",
   "execution_count": 58,
   "id": "30e1d2ea",
   "metadata": {
    "scrolled": true
   },
   "outputs": [
    {
     "data": {
      "text/plain": [
       "array(['Swimming', 'Gymnastics', 'Speed Skating', 'Cross Country Skiing',\n",
       "       'Short-Track Speed Skating', 'Diving', 'Cycling', 'Biathlon',\n",
       "       'Alpine Skiing', 'Ski Jumping', 'Nordic Combined', 'Athletics',\n",
       "       'Table Tennis', 'Tennis', 'Synchronized Swimming', 'Shooting',\n",
       "       'Rowing', 'Fencing', 'Equestrian', 'Canoeing', 'Bobsleigh',\n",
       "       'Badminton', 'Archery', 'Wrestling', 'Weightlifting', 'Waterpolo',\n",
       "       'Volleyball', 'Triathlon', 'Trampoline', 'Taekwondo', 'Softball',\n",
       "       'Snowboarding', 'Skeleton', 'Sailing', 'Rhythmic Gymnastics',\n",
       "       'Modern Pentathlon', 'Luge', 'Judo', 'Ice Hockey', 'Hockey',\n",
       "       'Handball', 'Football', 'Figure Skating', 'Freestyle Skiing',\n",
       "       'Curling', 'Baseball', 'Boxing', 'Beach Volleyball', 'Basketball'],\n",
       "      dtype=object)"
      ]
     },
     "execution_count": 58,
     "metadata": {},
     "output_type": "execute_result"
    }
   ],
   "source": [
    "df[\"sports\"].unique()"
   ]
  },
  {
   "cell_type": "code",
   "execution_count": 59,
   "id": "1af956dd",
   "metadata": {},
   "outputs": [
    {
     "data": {
      "text/plain": [
       "sports\n",
       "Alpine Skiing       [Janica Kostelic, Bode Miller, Aksel Lund Svin...\n",
       "Archery             [Ki Bo-Bae, Oh Jin-Hyek, Park Gyeong-Mo, Park ...\n",
       "Athletics           [Yohan Blake, Usain Bolt, Allyson Felix, Shell...\n",
       "Badminton           [Zhao Yunlei, Lee Hyo-Jeong, Yu Yang, Gao Ling...\n",
       "Baseball            [Brett Anderson, Jake Arrieta, Brian Barden, A...\n",
       "Basketball          [Carmelo Anthony, Semyon Antonov, Seimone Augu...\n",
       "Beach Volleyball    [Julius Brink, Alison Cerutti, Emanuel, Julian...\n",
       "Biathlon            [Ole Einar BjÃ¸rndalen, Magdalena Neuner, Emil...\n",
       "Bobsleigh           [Kevin Kuske, AndrÃ© Lange, Martin Annen, Beat...\n",
       "Boxing              [Nicola Adams, Misha Aloyan, LÃ¡zaro Ãlvarez,...\n",
       "Name: name, dtype: object"
      ]
     },
     "execution_count": 59,
     "metadata": {},
     "output_type": "execute_result"
    }
   ],
   "source": [
    "df.groupby(\"sports\")[\"name\"].unique().head(10)"
   ]
  },
  {
   "cell_type": "markdown",
   "id": "7041c1a5",
   "metadata": {},
   "source": [
    "### Top 10 countries with the Gold Medal"
   ]
  },
  {
   "cell_type": "code",
   "execution_count": 61,
   "id": "2dba7f16",
   "metadata": {},
   "outputs": [
    {
     "data": {
      "text/html": [
       "<div>\n",
       "<style scoped>\n",
       "    .dataframe tbody tr th:only-of-type {\n",
       "        vertical-align: middle;\n",
       "    }\n",
       "\n",
       "    .dataframe tbody tr th {\n",
       "        vertical-align: top;\n",
       "    }\n",
       "\n",
       "    .dataframe thead th {\n",
       "        text-align: right;\n",
       "    }\n",
       "</style>\n",
       "<table border=\"1\" class=\"dataframe\">\n",
       "  <thead>\n",
       "    <tr style=\"text-align: right;\">\n",
       "      <th></th>\n",
       "      <th>gold_medal</th>\n",
       "    </tr>\n",
       "    <tr>\n",
       "      <th>country</th>\n",
       "      <th></th>\n",
       "    </tr>\n",
       "  </thead>\n",
       "  <tbody>\n",
       "    <tr>\n",
       "      <th>United States</th>\n",
       "      <td>552</td>\n",
       "    </tr>\n",
       "    <tr>\n",
       "      <th>Russia</th>\n",
       "      <td>234</td>\n",
       "    </tr>\n",
       "    <tr>\n",
       "      <th>China</th>\n",
       "      <td>234</td>\n",
       "    </tr>\n",
       "    <tr>\n",
       "      <th>Germany</th>\n",
       "      <td>223</td>\n",
       "    </tr>\n",
       "    <tr>\n",
       "      <th>Canada</th>\n",
       "      <td>168</td>\n",
       "    </tr>\n",
       "    <tr>\n",
       "      <th>Australia</th>\n",
       "      <td>163</td>\n",
       "    </tr>\n",
       "    <tr>\n",
       "      <th>Great Britain</th>\n",
       "      <td>124</td>\n",
       "    </tr>\n",
       "    <tr>\n",
       "      <th>South Korea</th>\n",
       "      <td>110</td>\n",
       "    </tr>\n",
       "    <tr>\n",
       "      <th>France</th>\n",
       "      <td>108</td>\n",
       "    </tr>\n",
       "    <tr>\n",
       "      <th>Netherlands</th>\n",
       "      <td>101</td>\n",
       "    </tr>\n",
       "  </tbody>\n",
       "</table>\n",
       "</div>"
      ],
      "text/plain": [
       "               gold_medal\n",
       "country                  \n",
       "United States         552\n",
       "Russia                234\n",
       "China                 234\n",
       "Germany               223\n",
       "Canada                168\n",
       "Australia             163\n",
       "Great Britain         124\n",
       "South Korea           110\n",
       "France                108\n",
       "Netherlands           101"
      ]
     },
     "execution_count": 61,
     "metadata": {},
     "output_type": "execute_result"
    }
   ],
   "source": [
    "df_medals = df.groupby('country').sum()\n",
    "gold_medals = df_medals.sort_values(by=['gold_medal'],ascending=False, inplace=False)\n",
    "G = gold_medals[['gold_medal']].head(10)\n",
    "G"
   ]
  },
  {
   "cell_type": "markdown",
   "id": "c76c3ea0",
   "metadata": {},
   "source": [
    "### Visulization of the result using Barplot"
   ]
  },
  {
   "cell_type": "code",
   "execution_count": 63,
   "id": "4a2eef4f",
   "metadata": {},
   "outputs": [
    {
     "data": {
      "image/png": "[encoded data removed]",
      "text/plain": [
       "<Figure size 432x288 with 1 Axes>"
      ]
     },
     "metadata": {
      "needs_background": "light"
     },
     "output_type": "display_data"
    }
   ],
   "source": [
    "plt.title(\"Top 10 countries with the Gold Medals\")\n",
    "sns.barplot(x = G.index, y=\"gold_medal\", data=G)\n",
    "plt.xticks(rotation=90)\n",
    "plt.show()"
   ]
  },
  {
   "cell_type": "markdown",
   "id": "fe67138c",
   "metadata": {},
   "source": [
    "## Top 10 countries with the Silver Medal"
   ]
  },
  {
   "cell_type": "code",
   "execution_count": 65,
   "id": "20eb9b15",
   "metadata": {
    "scrolled": true
   },
   "outputs": [
    {
     "data": {
      "text/html": [
       "<div>\n",
       "<style scoped>\n",
       "    .dataframe tbody tr th:only-of-type {\n",
       "        vertical-align: middle;\n",
       "    }\n",
       "\n",
       "    .dataframe tbody tr th {\n",
       "        vertical-align: top;\n",
       "    }\n",
       "\n",
       "    .dataframe thead th {\n",
       "        text-align: right;\n",
       "    }\n",
       "</style>\n",
       "<table border=\"1\" class=\"dataframe\">\n",
       "  <thead>\n",
       "    <tr style=\"text-align: right;\">\n",
       "      <th></th>\n",
       "      <th>silver_medal</th>\n",
       "    </tr>\n",
       "    <tr>\n",
       "      <th>country</th>\n",
       "      <th></th>\n",
       "    </tr>\n",
       "  </thead>\n",
       "  <tbody>\n",
       "    <tr>\n",
       "      <th>United States</th>\n",
       "      <td>440</td>\n",
       "    </tr>\n",
       "    <tr>\n",
       "      <th>Australia</th>\n",
       "      <td>226</td>\n",
       "    </tr>\n",
       "    <tr>\n",
       "      <th>Russia</th>\n",
       "      <td>221</td>\n",
       "    </tr>\n",
       "    <tr>\n",
       "      <th>Germany</th>\n",
       "      <td>183</td>\n",
       "    </tr>\n",
       "    <tr>\n",
       "      <th>China</th>\n",
       "      <td>156</td>\n",
       "    </tr>\n",
       "    <tr>\n",
       "      <th>Netherlands</th>\n",
       "      <td>135</td>\n",
       "    </tr>\n",
       "    <tr>\n",
       "      <th>Spain</th>\n",
       "      <td>116</td>\n",
       "    </tr>\n",
       "    <tr>\n",
       "      <th>Japan</th>\n",
       "      <td>112</td>\n",
       "    </tr>\n",
       "    <tr>\n",
       "      <th>France</th>\n",
       "      <td>107</td>\n",
       "    </tr>\n",
       "    <tr>\n",
       "      <th>Italy</th>\n",
       "      <td>103</td>\n",
       "    </tr>\n",
       "  </tbody>\n",
       "</table>\n",
       "</div>"
      ],
      "text/plain": [
       "               silver_medal\n",
       "country                    \n",
       "United States           440\n",
       "Australia               226\n",
       "Russia                  221\n",
       "Germany                 183\n",
       "China                   156\n",
       "Netherlands             135\n",
       "Spain                   116\n",
       "Japan                   112\n",
       "France                  107\n",
       "Italy                   103"
      ]
     },
     "execution_count": 65,
     "metadata": {},
     "output_type": "execute_result"
    }
   ],
   "source": [
    "silver_medals = df_medals.sort_values(by=['silver_medal'],ascending=False, inplace=False)\n",
    "S = silver_medals[['silver_medal']].head(10)\n",
    "S"
   ]
  },
  {
   "cell_type": "markdown",
   "id": "09d41825",
   "metadata": {},
   "source": [
    "### Visulization of the result using Barplot"
   ]
  },
  {
   "cell_type": "code",
   "execution_count": 67,
   "id": "c4476824",
   "metadata": {},
   "outputs": [
    {
     "data": {
      "image/png": "[encoded data removed]",
      "text/plain": [
       "<Figure size 432x288 with 1 Axes>"
      ]
     },
     "metadata": {
      "needs_background": "light"
     },
     "output_type": "display_data"
    }
   ],
   "source": [
    "plt.title(\"Top 10 countries with the Silver Medals\")\n",
    "sns.barplot(x = S.index, y=\"silver_medal\", data=S)\n",
    "plt.xticks(rotation=90)\n",
    "plt.show()"
   ]
  },
  {
   "cell_type": "markdown",
   "id": "bee424ab",
   "metadata": {},
   "source": [
    "## Top 10 countries with the Bronze Medal"
   ]
  },
  {
   "cell_type": "code",
   "execution_count": 69,
   "id": "52297ec7",
   "metadata": {},
   "outputs": [
    {
     "data": {
      "text/html": [
       "<div>\n",
       "<style scoped>\n",
       "    .dataframe tbody tr th:only-of-type {\n",
       "        vertical-align: middle;\n",
       "    }\n",
       "\n",
       "    .dataframe tbody tr th {\n",
       "        vertical-align: top;\n",
       "    }\n",
       "\n",
       "    .dataframe thead th {\n",
       "        text-align: right;\n",
       "    }\n",
       "</style>\n",
       "<table border=\"1\" class=\"dataframe\">\n",
       "  <thead>\n",
       "    <tr style=\"text-align: right;\">\n",
       "      <th></th>\n",
       "      <th>bronze_medal</th>\n",
       "    </tr>\n",
       "    <tr>\n",
       "      <th>country</th>\n",
       "      <th></th>\n",
       "    </tr>\n",
       "  </thead>\n",
       "  <tbody>\n",
       "    <tr>\n",
       "      <th>United States</th>\n",
       "      <td>320</td>\n",
       "    </tr>\n",
       "    <tr>\n",
       "      <th>Australia</th>\n",
       "      <td>220</td>\n",
       "    </tr>\n",
       "    <tr>\n",
       "      <th>Russia</th>\n",
       "      <td>313</td>\n",
       "    </tr>\n",
       "    <tr>\n",
       "      <th>Germany</th>\n",
       "      <td>223</td>\n",
       "    </tr>\n",
       "    <tr>\n",
       "      <th>China</th>\n",
       "      <td>140</td>\n",
       "    </tr>\n",
       "    <tr>\n",
       "      <th>Netherlands</th>\n",
       "      <td>82</td>\n",
       "    </tr>\n",
       "    <tr>\n",
       "      <th>Spain</th>\n",
       "      <td>70</td>\n",
       "    </tr>\n",
       "    <tr>\n",
       "      <th>Japan</th>\n",
       "      <td>113</td>\n",
       "    </tr>\n",
       "    <tr>\n",
       "      <th>France</th>\n",
       "      <td>103</td>\n",
       "    </tr>\n",
       "    <tr>\n",
       "      <th>Italy</th>\n",
       "      <td>142</td>\n",
       "    </tr>\n",
       "  </tbody>\n",
       "</table>\n",
       "</div>"
      ],
      "text/plain": [
       "               bronze_medal\n",
       "country                    \n",
       "United States           320\n",
       "Australia               220\n",
       "Russia                  313\n",
       "Germany                 223\n",
       "China                   140\n",
       "Netherlands              82\n",
       "Spain                    70\n",
       "Japan                   113\n",
       "France                  103\n",
       "Italy                   142"
      ]
     },
     "execution_count": 69,
     "metadata": {},
     "output_type": "execute_result"
    }
   ],
   "source": [
    "bronze_medals = df_medals.sort_values(by=['silver_medal'],ascending=False, inplace=False)\n",
    "B = bronze_medals[['bronze_medal']].head(10)\n",
    "B"
   ]
  },
  {
   "cell_type": "markdown",
   "id": "1d91f41e",
   "metadata": {},
   "source": [
    "### Visulization of the result using Barplot"
   ]
  },
  {
   "cell_type": "code",
   "execution_count": 71,
   "id": "6e54eaa4",
   "metadata": {},
   "outputs": [
    {
     "data": {
      "image/png": "[encoded data removed]",
      "text/plain": [
       "<Figure size 432x288 with 1 Axes>"
      ]
     },
     "metadata": {
      "needs_background": "light"
     },
     "output_type": "display_data"
    }
   ],
   "source": [
    "plt.title(\"Top 10 countries with the Bronze Medals\")\n",
    "sns.barplot(x = B.index, y=\"bronze_medal\", data=B)\n",
    "plt.xticks(rotation=90)\n",
    "plt.show()"
   ]
  },
  {
   "cell_type": "markdown",
   "id": "6487e04e",
   "metadata": {},
   "source": [
    "## Top 10 countries with the Total Medals"
   ]
  },
  {
   "cell_type": "code",
   "execution_count": 73,
   "id": "278bbd10",
   "metadata": {},
   "outputs": [
    {
     "data": {
      "text/html": [
       "<div>\n",
       "<style scoped>\n",
       "    .dataframe tbody tr th:only-of-type {\n",
       "        vertical-align: middle;\n",
       "    }\n",
       "\n",
       "    .dataframe tbody tr th {\n",
       "        vertical-align: top;\n",
       "    }\n",
       "\n",
       "    .dataframe thead th {\n",
       "        text-align: right;\n",
       "    }\n",
       "</style>\n",
       "<table border=\"1\" class=\"dataframe\">\n",
       "  <thead>\n",
       "    <tr style=\"text-align: right;\">\n",
       "      <th></th>\n",
       "      <th>total_medal</th>\n",
       "    </tr>\n",
       "    <tr>\n",
       "      <th>country</th>\n",
       "      <th></th>\n",
       "    </tr>\n",
       "  </thead>\n",
       "  <tbody>\n",
       "    <tr>\n",
       "      <th>United States</th>\n",
       "      <td>1312</td>\n",
       "    </tr>\n",
       "    <tr>\n",
       "      <th>Russia</th>\n",
       "      <td>768</td>\n",
       "    </tr>\n",
       "    <tr>\n",
       "      <th>Germany</th>\n",
       "      <td>629</td>\n",
       "    </tr>\n",
       "    <tr>\n",
       "      <th>Australia</th>\n",
       "      <td>609</td>\n",
       "    </tr>\n",
       "    <tr>\n",
       "      <th>China</th>\n",
       "      <td>530</td>\n",
       "    </tr>\n",
       "    <tr>\n",
       "      <th>Canada</th>\n",
       "      <td>370</td>\n",
       "    </tr>\n",
       "    <tr>\n",
       "      <th>Italy</th>\n",
       "      <td>331</td>\n",
       "    </tr>\n",
       "    <tr>\n",
       "      <th>Great Britain</th>\n",
       "      <td>322</td>\n",
       "    </tr>\n",
       "    <tr>\n",
       "      <th>France</th>\n",
       "      <td>318</td>\n",
       "    </tr>\n",
       "    <tr>\n",
       "      <th>Netherlands</th>\n",
       "      <td>318</td>\n",
       "    </tr>\n",
       "  </tbody>\n",
       "</table>\n",
       "</div>"
      ],
      "text/plain": [
       "               total_medal\n",
       "country                   \n",
       "United States         1312\n",
       "Russia                 768\n",
       "Germany                629\n",
       "Australia              609\n",
       "China                  530\n",
       "Canada                 370\n",
       "Italy                  331\n",
       "Great Britain          322\n",
       "France                 318\n",
       "Netherlands            318"
      ]
     },
     "execution_count": 73,
     "metadata": {},
     "output_type": "execute_result"
    }
   ],
   "source": [
    "total_medals = df_medals.sort_values(by=['total_medal'],ascending=False, inplace=False)\n",
    "T = total_medals[['total_medal']].head(10)\n",
    "T"
   ]
  },
  {
   "cell_type": "markdown",
   "id": "8776a3b1",
   "metadata": {},
   "source": [
    "### Visulization of the result using Barplot"
   ]
  },
  {
   "cell_type": "code",
   "execution_count": 75,
   "id": "4db59e60",
   "metadata": {},
   "outputs": [
    {
     "data": {
      "image/png": "[encoded data removed]",
      "text/plain": [
       "<Figure size 432x288 with 1 Axes>"
      ]
     },
     "metadata": {
      "needs_background": "light"
     },
     "output_type": "display_data"
    }
   ],
   "source": [
    "plt.title(\"Top 10 countries with the Total Medals\")\n",
    "sns.barplot(x = T.index, y=\"total_medal\", data=T)\n",
    "plt.xticks(rotation=90)\n",
    "plt.show()"
   ]
  },
  {
   "cell_type": "markdown",
   "id": "66a6c5f7",
   "metadata": {},
   "source": [
    "## Representing top 10 countries having maximum total medals using pie chart\n",
    "\n",
    "For easy visalization, finding out contribution of top 10 countries in percentage having sum of three medals i.e. gold, silver and bronze from year 2000 to 2012."
   ]
  },
  {
   "cell_type": "code",
   "execution_count": 77,
   "id": "48cd45f6",
   "metadata": {
    "scrolled": true
   },
   "outputs": [
    {
     "data": {
      "image/png": "[encoded data removed]",
      "text/plain": [
       "<Figure size 432x432 with 1 Axes>"
      ]
     },
     "metadata": {},
     "output_type": "display_data"
    }
   ],
   "source": [
    "my_explode=(0.1,0.1,0.1,0,0,0,0,0,0,0)\n",
    "T.total_medal.plot(kind='pie', autopct='%.0f%%',explode=my_explode, label=\"\",figsize=(6,6),legend=True)\n",
    "plt.legend(title='Country',title_fontsize=12,loc='center left', bbox_to_anchor=(1.2, 0.5))\n",
    "plt.title('Pie-chart showing distribution of total medals of Top 10 Countries')\n",
    "plt.show()"
   ]
  },
  {
   "cell_type": "markdown",
   "id": "4b2b46f5",
   "metadata": {},
   "source": [
    "\n",
    "\n",
    "### Conclusion\n",
    "\n",
    "From the overall exploration of the data set, we can conclude as follows:\n",
    "\n",
    "• Missing values and duplicate values didn't affect our exploration and findings, if handled properly.\n",
    "\n",
    "• Average age of the athletes participated in the Olympics was 26 year.\n",
    "\n",
    "• Total 49 sports were included for the year 2000-2012\n",
    "\n",
    "• United States is having the highest number of total medals. \n",
    "\n",
    "• Russia and Germany also showed good overall performance in the Olympics.\n",
    "\n",
    "• India won 11 medals(1 Gold, 3 Silver and 7 Bronze) in the year 2000, 2004, 2008 and 2012.\n",
    "\n",
    "• India won medals in 'Wrestling', 'Weightlifting', 'Shooting', 'Boxing', 'Badminton'\n",
    "\n",
    "• Abhinav Bindra was the only Indian to win a Gold medal in the Olympic Games between 2000 and 2012.\n",
    "\n",
    "***\n",
    "\n",
    "\n",
    "## <center> **SHUBH SHARMA    21013570096** </center>\n",
    "\n"
   ]
  }
 ],
 "metadata": {
  "kernelspec": {
   "display_name": "anaconda-2022.05-py39",
   "language": "python",
   "name": "conda-env-anaconda-2022.05-py39-py"
  },
  "language_info": {
   "codemirror_mode": {
    "name": "ipython",
    "version": 3
   },
   "file_extension": ".py",
   "mimetype": "text/x-python",
   "name": "python",
   "nbconvert_exporter": "python",
   "pygments_lexer": "ipython3",
   "version": "3.9.12"
  }
 },
 "nbformat": 4,
 "nbformat_minor": 5
}
